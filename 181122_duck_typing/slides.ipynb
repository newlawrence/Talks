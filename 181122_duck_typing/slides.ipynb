{
 "cells": [
  {
   "cell_type": "code",
   "execution_count": 1,
   "metadata": {
    "slideshow": {
     "slide_type": "skip"
    }
   },
   "outputs": [],
   "source": [
    "#include <memory>\n",
    "#include <vector>\n",
    "\n",
    "#include <iostream>"
   ]
  },
  {
   "cell_type": "markdown",
   "metadata": {
    "slideshow": {
     "slide_type": "slide"
    }
   },
   "source": [
    "# **Duck Typing en C++**\n",
    "\n",
    "<img width=\"384\" height=\"384\" src=\"pictures/duck-prints.svg\">\n",
    "\n",
    "Image by [svgrepo.com](https://www.svgrepo.com/svg/32836/duck-prints)"
   ]
  },
  {
   "cell_type": "markdown",
   "metadata": {
    "slideshow": {
     "slide_type": "subslide"
    }
   },
   "source": [
    "### Alberto Lorenzo Márquez"
   ]
  },
  {
   "cell_type": "markdown",
   "metadata": {
    "slideshow": {
     "slide_type": "fragment"
    }
   },
   "source": [
    "* Ingeniero aeroespacial"
   ]
  },
  {
   "cell_type": "markdown",
   "metadata": {
    "slideshow": {
     "slide_type": "fragment"
    }
   },
   "source": [
    "* Desarrollador de software (**C++**, **Fortran**, **Python**, **Javascript**)"
   ]
  },
  {
   "cell_type": "markdown",
   "metadata": {
    "slideshow": {
     "slide_type": "fragment"
    }
   },
   "source": [
    "* **Github**: https://github.com/newlawrence"
   ]
  },
  {
   "cell_type": "markdown",
   "metadata": {
    "slideshow": {
     "slide_type": "fragment"
    }
   },
   "source": [
    "* **Twitter**: [@newlawrence](https://twitter.com/newlawrence)"
   ]
  },
  {
   "cell_type": "markdown",
   "metadata": {
    "slideshow": {
     "slide_type": "slide"
    }
   },
   "source": [
    "# Polimorfismo"
   ]
  },
  {
   "cell_type": "markdown",
   "metadata": {
    "slideshow": {
     "slide_type": "slide"
    }
   },
   "source": [
    "## Polimorfismo dinámico"
   ]
  },
  {
   "cell_type": "markdown",
   "metadata": {
    "slideshow": {
     "slide_type": "fragment"
    }
   },
   "source": [
    "El tradicional basado en **herencia** y las **funciones virtuales**."
   ]
  },
  {
   "cell_type": "code",
   "execution_count": 2,
   "metadata": {
    "slideshow": {
     "slide_type": "fragment"
    }
   },
   "outputs": [],
   "source": [
    "class IFoo {\n",
    "public:\n",
    "    virtual void bar() const = 0;\n",
    "    virtual ~IFoo() = default;\n",
    "};"
   ]
  },
  {
   "cell_type": "code",
   "execution_count": 3,
   "metadata": {
    "slideshow": {
     "slide_type": "subslide"
    }
   },
   "outputs": [],
   "source": [
    "class Foo1 final : public IFoo {\n",
    "public:\n",
    "    void bar() const override {\n",
    "        std::cout << \"I'm a Foo1 instance\" << std::endl;\n",
    "    }\n",
    "};\n",
    "\n",
    "class Foo2 final : public IFoo {\n",
    "public:\n",
    "    void bar() const override {\n",
    "        std::cout << \"I'm a Foo2 instance\" << std::endl;\n",
    "    }\n",
    "};"
   ]
  },
  {
   "cell_type": "code",
   "execution_count": 4,
   "metadata": {
    "slideshow": {
     "slide_type": "fragment"
    }
   },
   "outputs": [
    {
     "name": "stdout",
     "output_type": "stream",
     "text": [
      "I'm a Foo1 instance\n",
      "I'm a Foo2 instance\n"
     ]
    }
   ],
   "source": [
    "std::vector<std::unique_ptr<IFoo>> foo_ptrs;\n",
    "foo_ptrs.emplace_back(std::make_unique<Foo1>(Foo1()));\n",
    "foo_ptrs.emplace_back(std::make_unique<Foo2>(Foo2()));\n",
    "\n",
    "for (auto const& foo : foo_ptrs)\n",
    "    foo->bar();"
   ]
  },
  {
   "cell_type": "markdown",
   "metadata": {
    "slideshow": {
     "slide_type": "subslide"
    }
   },
   "source": [
    "¿Utilizar una clase que no pertenece a la jerarquía?"
   ]
  },
  {
   "cell_type": "code",
   "execution_count": 5,
   "metadata": {
    "slideshow": {
     "slide_type": "fragment"
    }
   },
   "outputs": [],
   "source": [
    "class Foo3 {\n",
    "public:\n",
    "    void bar() const { std::cout << \"I'm a Foo3 instance\" << std::endl; }\n",
    "};"
   ]
  },
  {
   "cell_type": "markdown",
   "metadata": {
    "slideshow": {
     "slide_type": "subslide"
    }
   },
   "source": [
    "### Principales inconvenientes"
   ]
  },
  {
   "cell_type": "markdown",
   "metadata": {
    "slideshow": {
     "slide_type": "fragment"
    }
   },
   "source": [
    "* Semántica por referencia."
   ]
  },
  {
   "cell_type": "markdown",
   "metadata": {
    "slideshow": {
     "slide_type": "fragment"
    }
   },
   "source": [
    "* Requiere de código adicional para adaptar código de terceros."
   ]
  },
  {
   "cell_type": "markdown",
   "metadata": {
    "slideshow": {
     "slide_type": "slide"
    }
   },
   "source": [
    "## Polimorfismo estático"
   ]
  },
  {
   "cell_type": "markdown",
   "metadata": {
    "slideshow": {
     "slide_type": "fragment"
    }
   },
   "source": [
    "Las plantillas de toda la vida."
   ]
  },
  {
   "cell_type": "code",
   "execution_count": 6,
   "metadata": {
    "slideshow": {
     "slide_type": "fragment"
    }
   },
   "outputs": [],
   "source": [
    "template<typename... Args>\n",
    "void call_bar(Args&&... foos) { (foos.bar(), ...); }"
   ]
  },
  {
   "cell_type": "code",
   "execution_count": 7,
   "metadata": {
    "slideshow": {
     "slide_type": "fragment"
    }
   },
   "outputs": [
    {
     "name": "stdout",
     "output_type": "stream",
     "text": [
      "I'm a Foo1 instance\n",
      "I'm a Foo2 instance\n",
      "I'm a Foo3 instance\n"
     ]
    }
   ],
   "source": [
    "call_bar(Foo1(), Foo2(), Foo3());"
   ]
  },
  {
   "cell_type": "markdown",
   "metadata": {
    "slideshow": {
     "slide_type": "subslide"
    }
   },
   "source": [
    "¿Almacenar distantas instancias de clases de plantilla en un contenedor..."
   ]
  },
  {
   "cell_type": "markdown",
   "metadata": {
    "slideshow": {
     "slide_type": "fragment"
    }
   },
   "source": [
    "### Tupla"
   ]
  },
  {
   "cell_type": "markdown",
   "metadata": {
    "slideshow": {
     "slide_type": "fragment"
    }
   },
   "source": [
    "... dinámico en tiempo de ejecución..."
   ]
  },
  {
   "cell_type": "markdown",
   "metadata": {
    "slideshow": {
     "slide_type": "fragment"
    }
   },
   "source": [
    "### Variant"
   ]
  },
  {
   "cell_type": "markdown",
   "metadata": {
    "slideshow": {
     "slide_type": "fragment"
    }
   },
   "source": [
    "... para cualquier tipo que cumpla la interfaz?"
   ]
  },
  {
   "cell_type": "markdown",
   "metadata": {
    "slideshow": {
     "slide_type": "fragment"
    }
   },
   "source": [
    "### ¿Any?"
   ]
  },
  {
   "cell_type": "markdown",
   "metadata": {
    "slideshow": {
     "slide_type": "subslide"
    }
   },
   "source": [
    "### Principal inconveniente"
   ]
  },
  {
   "cell_type": "markdown",
   "metadata": {
    "slideshow": {
     "slide_type": "fragment"
    }
   },
   "source": [
    "* Comunicación entre distintas unidades de traducción sólo para tipos conocidos."
   ]
  },
  {
   "cell_type": "markdown",
   "metadata": {
    "slideshow": {
     "slide_type": "slide"
    }
   },
   "source": [
    "### Repasando..."
   ]
  },
  {
   "cell_type": "markdown",
   "metadata": {
    "slideshow": {
     "slide_type": "fragment"
    }
   },
   "source": [
    "...la herencia permite utilizar tipos desconocidos a través de las interfaces."
   ]
  },
  {
   "cell_type": "markdown",
   "metadata": {
    "slideshow": {
     "slide_type": "fragment"
    }
   },
   "source": [
    "...las plantillas permiten generar código de forma automática."
   ]
  },
  {
   "cell_type": "markdown",
   "metadata": {
    "slideshow": {
     "slide_type": "slide"
    }
   },
   "source": [
    "## Combinando polimorfismos"
   ]
  },
  {
   "cell_type": "code",
   "execution_count": 8,
   "metadata": {
    "slideshow": {
     "slide_type": "fragment"
    }
   },
   "outputs": [],
   "source": [
    "class FooConcept {\n",
    "public:\n",
    "    virtual void bar() const = 0;\n",
    "    virtual ~FooConcept() = default;\n",
    "};"
   ]
  },
  {
   "cell_type": "markdown",
   "metadata": {
    "slideshow": {
     "slide_type": "fragment"
    }
   },
   "source": [
    "Utilizando la herencia proporcionando una clase base para las plantillas, se consigue que estas no tengan por qué ser conocidas entre distintas unidades de traducción."
   ]
  },
  {
   "cell_type": "code",
   "execution_count": 9,
   "metadata": {
    "slideshow": {
     "slide_type": "subslide"
    }
   },
   "outputs": [],
   "source": [
    "template<typename T>\n",
    "class FooModel final : public FooConcept {\n",
    "    T self_;\n",
    "\n",
    "public:\n",
    "    template<typename U>\n",
    "    FooModel(U&& self) : self_{ std::forward<U>(self) } {}\n",
    "\n",
    "    void bar() const override { self_.bar(); }\n",
    "};"
   ]
  },
  {
   "cell_type": "markdown",
   "metadata": {
    "slideshow": {
     "slide_type": "fragment"
    }
   },
   "source": [
    "Utilizando las plantillas, se consigue liberar al usuario de tener que escribir código para adaptarse a la interfaz."
   ]
  },
  {
   "cell_type": "markdown",
   "metadata": {
    "slideshow": {
     "slide_type": "subslide"
    }
   },
   "source": [
    "## Borrado de tipos"
   ]
  },
  {
   "cell_type": "code",
   "execution_count": 10,
   "metadata": {
    "slideshow": {
     "slide_type": "fragment"
    }
   },
   "outputs": [],
   "source": [
    "class Foo {\n",
    "    std::unique_ptr<FooConcept> self_;\n",
    "\n",
    "public:\n",
    "    template<typename T>\n",
    "    Foo(T&& self)\n",
    "        : self_{ std::make_unique<FooModel<T>>(std::forward<T>(self)) }\n",
    "    {}\n",
    "\n",
    "    void bar() const { self_->bar(); }\n",
    "};"
   ]
  },
  {
   "cell_type": "markdown",
   "metadata": {
    "slideshow": {
     "slide_type": "fragment"
    }
   },
   "source": [
    "Finalmente, ocultando las dos técnicas anteriores bajo un mismo tipo, se consigue proporcionar semántica por valor."
   ]
  },
  {
   "cell_type": "code",
   "execution_count": 11,
   "metadata": {
    "slideshow": {
     "slide_type": "subslide"
    }
   },
   "outputs": [
    {
     "name": "stdout",
     "output_type": "stream",
     "text": [
      "I'm a Foo1 instance\n",
      "I'm a Foo2 instance\n",
      "I'm a Foo3 instance\n"
     ]
    }
   ],
   "source": [
    "std::vector<Foo> foos;\n",
    "foos.emplace_back(Foo1());  // Same hierarchy\n",
    "foos.emplace_back(Foo2());  // Same hierarchy\n",
    "foos.emplace_back(Foo3());  // Foreign class\n",
    "\n",
    "for (auto const& foo : foos)\n",
    "    foo.bar();"
   ]
  },
  {
   "cell_type": "markdown",
   "metadata": {
    "slideshow": {
     "slide_type": "fragment"
    }
   },
   "source": [
    "### Duck Typing"
   ]
  },
  {
   "cell_type": "markdown",
   "metadata": {
    "slideshow": {
     "slide_type": "fragment"
    }
   },
   "source": [
    "> When I see a bird that walks like a duck and swims like a duck and quacks like a duck, I call that bird a duck.\n",
    ">\n",
    "> <cite><b>James Whitcomb Riley</b></cite>"
   ]
  },
  {
   "cell_type": "code",
   "execution_count": null,
   "metadata": {},
   "outputs": [],
   "source": []
  }
 ],
 "metadata": {
  "celltoolbar": "Slideshow",
  "kernelspec": {
   "display_name": "C++17",
   "language": "C++17",
   "name": "xeus-cling-cpp17"
  },
  "language_info": {
   "codemirror_mode": "text/x-c++src",
   "file_extension": ".cpp",
   "mimetype": "text/x-c++src",
   "name": "c++",
   "version": "-std=c++17"
  }
 },
 "nbformat": 4,
 "nbformat_minor": 2
}
