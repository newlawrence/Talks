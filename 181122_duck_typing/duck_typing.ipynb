{
 "cells": [
  {
   "cell_type": "code",
   "execution_count": 1,
   "metadata": {
    "slideshow": {
     "slide_type": "skip"
    }
   },
   "outputs": [],
   "source": [
    "#include <memory>\n",
    "#include <vector>\n",
    "\n",
    "#include <iostream>"
   ]
  },
  {
   "cell_type": "markdown",
   "metadata": {
    "slideshow": {
     "slide_type": "slide"
    }
   },
   "source": [
    "# **Duck Typing en C++**\n",
    "\n",
    "<img width=\"384\" height=\"384\" src=\"https://raw.githubusercontent.com/newlawrence/Talks/master/181122_duck_typing/pictures/duck-prints.svg?sanitize=true\">\n",
    "\n",
    "Image by [svgrepo.com](https://www.svgrepo.com/svg/32836/duck-prints)"
   ]
  },
  {
   "cell_type": "markdown",
   "metadata": {
    "slideshow": {
     "slide_type": "subslide"
    }
   },
   "source": [
    "### Alberto Lorenzo Márquez"
   ]
  },
  {
   "cell_type": "markdown",
   "metadata": {
    "slideshow": {
     "slide_type": "fragment"
    }
   },
   "source": [
    "* Ingeniero aeroespacial"
   ]
  },
  {
   "cell_type": "markdown",
   "metadata": {
    "slideshow": {
     "slide_type": "fragment"
    }
   },
   "source": [
    "* Desarrollador de software (**C++**, **Fortran**, **Python**, **Javascript**)"
   ]
  },
  {
   "cell_type": "markdown",
   "metadata": {
    "slideshow": {
     "slide_type": "fragment"
    }
   },
   "source": [
    "* **Github**: https://github.com/newlawrence"
   ]
  },
  {
   "cell_type": "markdown",
   "metadata": {
    "slideshow": {
     "slide_type": "fragment"
    }
   },
   "source": [
    "* **Twitter**: [@newlawrence](https://twitter.com/newlawrence)"
   ]
  },
  {
   "cell_type": "markdown",
   "metadata": {
    "slideshow": {
     "slide_type": "slide"
    }
   },
   "source": [
    "# Polimorfismo"
   ]
  },
  {
   "cell_type": "markdown",
   "metadata": {
    "slideshow": {
     "slide_type": "fragment"
    }
   },
   "source": [
    "* Polimorfismo dinámico"
   ]
  },
  {
   "cell_type": "markdown",
   "metadata": {
    "slideshow": {
     "slide_type": "fragment"
    }
   },
   "source": [
    "* Polimorfismo estático"
   ]
  },
  {
   "cell_type": "markdown",
   "metadata": {
    "slideshow": {
     "slide_type": "slide"
    }
   },
   "source": [
    "## Polimorfismo dinámico"
   ]
  },
  {
   "cell_type": "markdown",
   "metadata": {
    "slideshow": {
     "slide_type": "fragment"
    }
   },
   "source": [
    "El tradicional basado en **herencia** y las **funciones virtuales**."
   ]
  },
  {
   "cell_type": "code",
   "execution_count": 2,
   "metadata": {
    "slideshow": {
     "slide_type": "fragment"
    }
   },
   "outputs": [],
   "source": [
    "class IFoo {\n",
    "public:\n",
    "    virtual void bar() const = 0;\n",
    "    virtual ~IFoo() = default;\n",
    "};"
   ]
  },
  {
   "cell_type": "code",
   "execution_count": 3,
   "metadata": {
    "slideshow": {
     "slide_type": "subslide"
    }
   },
   "outputs": [],
   "source": [
    "class Foo1 final : public IFoo {\n",
    "public:\n",
    "    void bar() const override {\n",
    "        std::cout << \"I'm a Foo1 instance\" << std::endl;\n",
    "    }\n",
    "};\n",
    "\n",
    "class Foo2 final : public IFoo {\n",
    "public:\n",
    "    void bar() const override {\n",
    "        std::cout << \"I'm a Foo2 instance\" << std::endl;\n",
    "    }\n",
    "};"
   ]
  },
  {
   "cell_type": "code",
   "execution_count": 4,
   "metadata": {
    "slideshow": {
     "slide_type": "fragment"
    }
   },
   "outputs": [
    {
     "name": "stdout",
     "output_type": "stream",
     "text": [
      "I'm a Foo1 instance\n",
      "I'm a Foo2 instance\n"
     ]
    }
   ],
   "source": [
    "std::vector<std::unique_ptr<IFoo>> foo_ptrs;\n",
    "foo_ptrs.emplace_back(std::make_unique<Foo1>(Foo1()));\n",
    "foo_ptrs.emplace_back(std::make_unique<Foo2>(Foo2()));\n",
    "\n",
    "for (auto const& foo : foo_ptrs)\n",
    "    foo->bar();"
   ]
  },
  {
   "cell_type": "markdown",
   "metadata": {
    "slideshow": {
     "slide_type": "subslide"
    }
   },
   "source": [
    "¿Utilizar una clase que no pertenece a la jerarquía?"
   ]
  },
  {
   "cell_type": "code",
   "execution_count": 5,
   "metadata": {
    "slideshow": {
     "slide_type": "fragment"
    }
   },
   "outputs": [],
   "source": [
    "class Foo3 {\n",
    "public:\n",
    "    void bar() const { std::cout << \"I'm a Foo3 instance\" << std::endl; }\n",
    "};"
   ]
  },
  {
   "cell_type": "markdown",
   "metadata": {
    "slideshow": {
     "slide_type": "subslide"
    }
   },
   "source": [
    "### Principales inconvenientes"
   ]
  },
  {
   "cell_type": "markdown",
   "metadata": {
    "slideshow": {
     "slide_type": "fragment"
    }
   },
   "source": [
    "* Semántica por referencia."
   ]
  },
  {
   "cell_type": "markdown",
   "metadata": {
    "slideshow": {
     "slide_type": "fragment"
    }
   },
   "source": [
    "* Requiere de código adicional para adaptar código de terceros."
   ]
  },
  {
   "cell_type": "markdown",
   "metadata": {
    "slideshow": {
     "slide_type": "slide"
    }
   },
   "source": [
    "## Polimorfismo estático"
   ]
  },
  {
   "cell_type": "markdown",
   "metadata": {
    "slideshow": {
     "slide_type": "fragment"
    }
   },
   "source": [
    "Es decir, las plantillas."
   ]
  },
  {
   "cell_type": "code",
   "execution_count": 6,
   "metadata": {
    "slideshow": {
     "slide_type": "fragment"
    }
   },
   "outputs": [],
   "source": [
    "template<typename... Args>\n",
    "void call_bar(Args&&... foos) { (foos.bar(), ...); }"
   ]
  },
  {
   "cell_type": "code",
   "execution_count": 7,
   "metadata": {
    "slideshow": {
     "slide_type": "fragment"
    }
   },
   "outputs": [
    {
     "name": "stdout",
     "output_type": "stream",
     "text": [
      "I'm a Foo1 instance\n",
      "I'm a Foo2 instance\n",
      "I'm a Foo3 instance\n"
     ]
    }
   ],
   "source": [
    "call_bar(Foo1(), Foo2(), Foo3());"
   ]
  },
  {
   "cell_type": "markdown",
   "metadata": {
    "slideshow": {
     "slide_type": "subslide"
    }
   },
   "source": [
    "¿Almacenar distantas instancias de clases de plantilla en un contenedor..."
   ]
  },
  {
   "cell_type": "markdown",
   "metadata": {
    "slideshow": {
     "slide_type": "fragment"
    }
   },
   "source": [
    "### Tupla"
   ]
  },
  {
   "cell_type": "markdown",
   "metadata": {
    "slideshow": {
     "slide_type": "fragment"
    }
   },
   "source": [
    "... dinámico en tiempo de ejecución..."
   ]
  },
  {
   "cell_type": "markdown",
   "metadata": {
    "slideshow": {
     "slide_type": "fragment"
    }
   },
   "source": [
    "### Variant"
   ]
  },
  {
   "cell_type": "markdown",
   "metadata": {
    "slideshow": {
     "slide_type": "fragment"
    }
   },
   "source": [
    "... para cualquier tipo que cumpla la interfaz?"
   ]
  },
  {
   "cell_type": "markdown",
   "metadata": {
    "slideshow": {
     "slide_type": "fragment"
    }
   },
   "source": [
    "### ¿Any?"
   ]
  },
  {
   "cell_type": "markdown",
   "metadata": {
    "slideshow": {
     "slide_type": "subslide"
    }
   },
   "source": [
    "### Principal inconveniente"
   ]
  },
  {
   "cell_type": "markdown",
   "metadata": {
    "slideshow": {
     "slide_type": "fragment"
    }
   },
   "source": [
    "* Comunicación entre distintas unidades de traducción sólo para tipos conocidos."
   ]
  },
  {
   "cell_type": "markdown",
   "metadata": {
    "slideshow": {
     "slide_type": "slide"
    }
   },
   "source": [
    "### Repasando..."
   ]
  },
  {
   "cell_type": "markdown",
   "metadata": {
    "slideshow": {
     "slide_type": "fragment"
    }
   },
   "source": [
    "...la herencia permite utilizar tipos desconocidos a través de las interfaces."
   ]
  },
  {
   "cell_type": "markdown",
   "metadata": {
    "slideshow": {
     "slide_type": "fragment"
    }
   },
   "source": [
    "...las plantillas permiten generar código de forma automática."
   ]
  },
  {
   "cell_type": "markdown",
   "metadata": {
    "slideshow": {
     "slide_type": "slide"
    }
   },
   "source": [
    "## Combinando polimorfismos"
   ]
  },
  {
   "cell_type": "code",
   "execution_count": 8,
   "metadata": {
    "slideshow": {
     "slide_type": "fragment"
    }
   },
   "outputs": [],
   "source": [
    "class FooConcept {\n",
    "public:\n",
    "    virtual void bar() const = 0;\n",
    "    virtual ~FooConcept() = default;\n",
    "};"
   ]
  },
  {
   "cell_type": "markdown",
   "metadata": {
    "slideshow": {
     "slide_type": "fragment"
    }
   },
   "source": [
    "Utilizando la herencia proporcionando una clase base para las plantillas, se consigue que estas no tengan por qué ser conocidas entre distintas unidades de traducción."
   ]
  },
  {
   "cell_type": "code",
   "execution_count": 9,
   "metadata": {
    "slideshow": {
     "slide_type": "subslide"
    }
   },
   "outputs": [],
   "source": [
    "template<typename T>\n",
    "class FooModel final : public FooConcept {\n",
    "    T self_;\n",
    "\n",
    "public:\n",
    "    template<typename U>\n",
    "    FooModel(U&& self) : self_{ std::forward<U>(self) } {}\n",
    "\n",
    "    void bar() const override { self_.bar(); }\n",
    "};"
   ]
  },
  {
   "cell_type": "markdown",
   "metadata": {
    "slideshow": {
     "slide_type": "fragment"
    }
   },
   "source": [
    "Utilizando las plantillas, se consigue liberar al usuario de tener que escribir código para adaptarse a la interfaz."
   ]
  },
  {
   "cell_type": "markdown",
   "metadata": {
    "slideshow": {
     "slide_type": "subslide"
    }
   },
   "source": [
    "## Borrado de tipos"
   ]
  },
  {
   "cell_type": "code",
   "execution_count": 10,
   "metadata": {
    "slideshow": {
     "slide_type": "fragment"
    }
   },
   "outputs": [],
   "source": [
    "class Foo {\n",
    "    std::unique_ptr<FooConcept> self_;\n",
    "\n",
    "public:\n",
    "    template<typename T>\n",
    "    Foo(T&& self)\n",
    "        : self_{ std::make_unique<FooModel<T>>(std::forward<T>(self)) }\n",
    "    {}\n",
    "\n",
    "    void bar() const { self_->bar(); }\n",
    "};"
   ]
  },
  {
   "cell_type": "markdown",
   "metadata": {
    "slideshow": {
     "slide_type": "fragment"
    }
   },
   "source": [
    "Finalmente, ocultando las dos técnicas anteriores bajo un mismo tipo, se consigue proporcionar semántica por valor."
   ]
  },
  {
   "cell_type": "code",
   "execution_count": 11,
   "metadata": {
    "slideshow": {
     "slide_type": "subslide"
    }
   },
   "outputs": [
    {
     "name": "stdout",
     "output_type": "stream",
     "text": [
      "I'm a Foo1 instance\n",
      "I'm a Foo2 instance\n",
      "I'm a Foo3 instance\n"
     ]
    }
   ],
   "source": [
    "std::vector<Foo> foos;\n",
    "foos.emplace_back(Foo1());  // Same hierarchy\n",
    "foos.emplace_back(Foo2());  // Same hierarchy\n",
    "foos.emplace_back(Foo3());  // Foreign class\n",
    "\n",
    "for (auto const& foo : foos)\n",
    "    foo.bar();"
   ]
  },
  {
   "cell_type": "markdown",
   "metadata": {
    "slideshow": {
     "slide_type": "fragment"
    }
   },
   "source": [
    "### Duck Typing"
   ]
  },
  {
   "cell_type": "markdown",
   "metadata": {
    "slideshow": {
     "slide_type": "fragment"
    }
   },
   "source": [
    "> When I see a bird that walks like a duck and swims like a duck and quacks like a duck, I call that bird a duck.\n",
    ">\n",
    "> <cite><b>James Whitcomb Riley</b></cite>"
   ]
  },
  {
   "cell_type": "markdown",
   "metadata": {
    "slideshow": {
     "slide_type": "slide"
    }
   },
   "source": [
    "# Algo de control sobre la memoria dinámica"
   ]
  },
  {
   "cell_type": "markdown",
   "metadata": {
    "slideshow": {
     "slide_type": "fragment"
    }
   },
   "source": [
    "***Optimización del objeto pequeño***"
   ]
  },
  {
   "cell_type": "markdown",
   "metadata": {
    "slideshow": {
     "slide_type": "fragment"
    }
   },
   "source": [
    "***Recursos de memoria polimórficos***"
   ]
  },
  {
   "cell_type": "markdown",
   "metadata": {
    "slideshow": {
     "slide_type": "slide"
    }
   },
   "source": [
    "## Tablas de métodos virtuales"
   ]
  },
  {
   "cell_type": "markdown",
   "metadata": {
    "slideshow": {
     "slide_type": "fragment"
    }
   },
   "source": [
    "Los mecanismos de implementación de la optimización del objeto pequeño y reserva de memoria de objetos con tipos borrados requieren de castings intensivos."
   ]
  },
  {
   "cell_type": "markdown",
   "metadata": {
    "slideshow": {
     "slide_type": "fragment"
    }
   },
   "source": [
    "Las clases con métodos virtuales no poseen una disposición estándar (**standard layout**). Los castings directos de clase base a una localización de memoria donde se ha almacenado una clase derivada conducen a **comportamiento indefinido**."
   ]
  },
  {
   "cell_type": "markdown",
   "metadata": {
    "slideshow": {
     "slide_type": "subslide"
    }
   },
   "source": [
    "De la herencia a las tablas de métodos... ¿cómo cambia el borrado de tipos?"
   ]
  },
  {
   "cell_type": "markdown",
   "metadata": {
    "slideshow": {
     "slide_type": "fragment"
    }
   },
   "source": [
    "```c++\n",
    "class FooWrapper {\n",
    "public:\n",
    "    using allocator_type = std::pmr::polymorphic_allocator<std::byte>;\n",
    "\n",
    "private:\n",
    "    static std::size_t constexpr BUFFER_SIZE = 16;\n",
    "\n",
    "    allocator_type allocator_;\n",
    "\n",
    "    FooConcept const* dispatcher_;\n",
    "    union Storage {\n",
    "        std::aligned_storage_t<BUFFER_SIZE> local;\n",
    "        void* remote;\n",
    "    } storage_;\n",
    "\n",
    "    // ...\n",
    "};\n",
    "```"
   ]
  },
  {
   "cell_type": "markdown",
   "metadata": {
    "slideshow": {
     "slide_type": "subslide"
    }
   },
   "source": [
    "## Conceptos como tablas virtuales de punteros"
   ]
  },
  {
   "cell_type": "markdown",
   "metadata": {
    "slideshow": {
     "slide_type": "fragment"
    }
   },
   "source": [
    "```c++\n",
    "struct FooConcept {\n",
    "    void(*bar)(void* self);\n",
    "    void(*destroy)(void* self, void* alloc);\n",
    "};\n",
    "```"
   ]
  },
  {
   "cell_type": "markdown",
   "metadata": {
    "slideshow": {
     "slide_type": "subslide"
    }
   },
   "source": [
    "Implementando la tabla de punteros para los objetos pequeños..."
   ]
  },
  {
   "cell_type": "markdown",
   "metadata": {
    "slideshow": {
     "slide_type": "fragment"
    }
   },
   "source": [
    "```c++\n",
    "template<typename T, typename U>\n",
    "FooConcept const FooDispatcherSBO{\n",
    "    [](void* self) {         // bar\n",
    "        auto storage = reinterpret_cast<T*>(&static_cast<U>(self)->local);\n",
    "        storage->bar();\n",
    "    },\n",
    "    [](void* self, void*) {  // destroy\n",
    "        auto storage = reinterpret_cast<T*>(&static_cast<U>(self)->local);\n",
    "        std::destroy_at(storage);\n",
    "    }\n",
    "};\n",
    "```"
   ]
  },
  {
   "cell_type": "markdown",
   "metadata": {
    "slideshow": {
     "slide_type": "subslide"
    }
   },
   "source": [
    "Implementando la tabla de punteros para los objetos utilizando memoria dinámica..."
   ]
  },
  {
   "cell_type": "markdown",
   "metadata": {
    "slideshow": {
     "slide_type": "fragment"
    }
   },
   "source": [
    "```c++\n",
    "template<typename T, typename U>\n",
    "FooConcept const FooDispatcherPMR{\n",
    "    [](void* self) {               // bar\n",
    "        auto storage = reinterpret_cast<T*>(&static_cast<U>(self)->remote);\n",
    "        remote->bar();\n",
    "    },\n",
    "    [](void* self, void* alloc) {  // destroy\n",
    "        auto allocator = detail::rebind_function<T>(alloc);\n",
    "        auto storage = reinterpret_cast<T*>(&static_cast<U>(self)->remote);\n",
    "        if (storage)\n",
    "            std::destroy_at(storage);\n",
    "        allocator.deallocate(storage, 1);\n",
    "    }\n",
    "};\n",
    "```"
   ]
  },
  {
   "cell_type": "markdown",
   "metadata": {
    "slideshow": {
     "slide_type": "slide"
    }
   },
   "source": [
    "## Borrado de tipos"
   ]
  },
  {
   "cell_type": "markdown",
   "metadata": {
    "slideshow": {
     "slide_type": "fragment"
    }
   },
   "source": [
    "```c++\n",
    "class FooWrapper {\n",
    "public:\n",
    "    template<typename T>\n",
    "    explicit FooWrapper(T&& obj, allocator_type alloc={})\n",
    "        : allocator_{ alloc }\n",
    "    {\n",
    "        std::pmr::polymorphic_allocator<T> allocator{ alloc };\n",
    "        T* storage;\n",
    "\n",
    "        if constexpr (sizeof(T) <= BUFFER_SIZE) {\n",
    "            dispatcher_ = &FooDispatcherSBO<T, Storage>;\n",
    "            storage = reinterpret_cast<T*>(&storage_.local);\n",
    "        }\n",
    "        else {\n",
    "            dispatcher_ = &FooDispatcherPMR<T, Storage>;\n",
    "            storage_.remote = allocator.allocate(1);\n",
    "            storage = reinterpret_cast<T*>(storage_.remote);\n",
    "        }\n",
    "        allocator.construct(storage, std::forward<T>(obj));\n",
    "    }\n",
    "```"
   ]
  },
  {
   "cell_type": "markdown",
   "metadata": {
    "slideshow": {
     "slide_type": "subslide"
    }
   },
   "source": [
    "El desctructor y el método `bar` son despachados a través de la tabla de punteros:"
   ]
  },
  {
   "cell_type": "markdown",
   "metadata": {
    "slideshow": {
     "slide_type": "fragment"
    }
   },
   "source": [
    "```c++\n",
    "FooWrapper::~FooWrapper() {\n",
    "    dispatcher_->destroy(&storage_, &allocator_);\n",
    "}\n",
    "```"
   ]
  },
  {
   "cell_type": "markdown",
   "metadata": {
    "slideshow": {
     "slide_type": "fragment"
    }
   },
   "source": [
    "```c++\n",
    "void FooWrapper::bar() const {\n",
    "    dispatcher_->bar(&const_cast<Storage&>(storage_));\n",
    "}\n",
    "```"
   ]
  },
  {
   "cell_type": "markdown",
   "metadata": {
    "slideshow": {
     "slide_type": "subslide"
    }
   },
   "source": [
    "## Utilizando un bloque de memoria local"
   ]
  },
  {
   "cell_type": "markdown",
   "metadata": {
    "slideshow": {
     "slide_type": "fragment"
    }
   },
   "source": [
    "Definiendo un objeto pequeño:"
   ]
  },
  {
   "cell_type": "markdown",
   "metadata": {
    "slideshow": {
     "slide_type": "fragment"
    }
   },
   "source": [
    "```c++\n",
    "class SmallFoo {\n",
    "public:\n",
    "    void bar() const { std::cout << \"I am a small foo!\" << std::endl; }\n",
    "};\n",
    "```"
   ]
  },
  {
   "cell_type": "markdown",
   "metadata": {
    "slideshow": {
     "slide_type": "subslide"
    }
   },
   "source": [
    "Definiendo un objeto que requiera de memoria dinámica:"
   ]
  },
  {
   "cell_type": "markdown",
   "metadata": {
    "slideshow": {
     "slide_type": "fragment"
    }
   },
   "source": [
    "```c++\n",
    "class BigFoo {\n",
    "    char str_[24];\n",
    "\n",
    "public:\n",
    "    BigFoo() noexcept { std::strcpy(str_, \"I am a big foo!\"); }\n",
    "    BigFoo(BigFoo const& other) noexcept : BigFoo{} {}\n",
    "    BigFoo(BigFoo&& other) noexcept : BigFoo{} {}\n",
    "\n",
    "    void bar() const { std::cout << str_ << std::endl; }\n",
    "};\n",
    "```"
   ]
  },
  {
   "cell_type": "markdown",
   "metadata": {
    "slideshow": {
     "slide_type": "subslide"
    }
   },
   "source": [
    "Ejemplo envolviendo ambos objetos en un vector que se aprovecha de un bloque de memoria local:"
   ]
  },
  {
   "cell_type": "markdown",
   "metadata": {
    "slideshow": {
     "slide_type": "fragment"
    }
   },
   "source": [
    "```c++\n",
    "std::array<std::byte, 256> buffer;\n",
    "std::pmr::monotonic_buffer_resource pool{ buffer.data(), buffer.size() };\n",
    "\n",
    "std::pmr::vector<foo::FooWrapper> foos{ &pool };\n",
    "foos.emplace_back(SmallFoo());\n",
    "foos.emplace_back(BigFoo());\n",
    "\n",
    "for (auto const& foo : foos)\n",
    "    foo.bar();\n",
    "```"
   ]
  },
  {
   "cell_type": "markdown",
   "metadata": {
    "slideshow": {
     "slide_type": "fragment"
    }
   },
   "source": [
    "Demostrado está, en **C++** es posible un polimorfismo..."
   ]
  },
  {
   "cell_type": "markdown",
   "metadata": {
    "slideshow": {
     "slide_type": "fragment"
    }
   },
   "source": [
    "* Con semántica por valor."
   ]
  },
  {
   "cell_type": "markdown",
   "metadata": {
    "slideshow": {
     "slide_type": "fragment"
    }
   },
   "source": [
    "* Sin necesidad de aportar código adicional."
   ]
  },
  {
   "cell_type": "markdown",
   "metadata": {
    "slideshow": {
     "slide_type": "fragment"
    }
   },
   "source": [
    "* Con control sobre la gestión de la memoria."
   ]
  },
  {
   "cell_type": "markdown",
   "metadata": {
    "slideshow": {
     "slide_type": "subslide"
    }
   },
   "source": [
    "### ... por eso nos gusta C++!"
   ]
  },
  {
   "cell_type": "markdown",
   "metadata": {
    "slideshow": {
     "slide_type": "slide"
    }
   },
   "source": [
    "# Código fuente"
   ]
  },
  {
   "cell_type": "markdown",
   "metadata": {
    "slideshow": {
     "slide_type": "fragment"
    }
   },
   "source": [
    "El ejemplo correcto y completo de borrado de tipos aquí presentado, utilizando optimización del objeto pequeño y recursos de memoria polimórficos (incluyendo los constructores de copia y movimiento, así como los operadores de asignación), puede encontrarse [aquí](https://github.com/newlawrence/Talks/tree/master/181122_duck_typing/source)."
   ]
  },
  {
   "cell_type": "markdown",
   "metadata": {
    "slideshow": {
     "slide_type": "slide"
    }
   },
   "source": [
    "# Referencias"
   ]
  },
  {
   "cell_type": "markdown",
   "metadata": {
    "slideshow": {
     "slide_type": "fragment"
    }
   },
   "source": [
    "Dave Kilian, [**C++ 'Type Erasure' Explained**](http://davekilian.com/cpp-type-erasure.html)"
   ]
  },
  {
   "cell_type": "markdown",
   "metadata": {
    "slideshow": {
     "slide_type": "fragment"
    }
   },
   "source": [
    "José Daniel García, [Polimorfismo estático y dinámico en C++11: ¿Flexibilidad contra rendimiento?](https://www.youtube.com/watch?v=yxDPlWr2WD0&t=1765s)"
   ]
  },
  {
   "cell_type": "markdown",
   "metadata": {
    "slideshow": {
     "slide_type": "fragment"
    }
   },
   "source": [
    "Sean Parent, [Polymorphic Task](https://www.youtube.com/watch?v=2KGkcGtGVM4)"
   ]
  },
  {
   "cell_type": "markdown",
   "metadata": {
    "slideshow": {
     "slide_type": "fragment"
    }
   },
   "source": [
    "Sean Parent, [Small Object Optimization for Polymorphic Types](http://stlab.cc/tips/small-object-optimizations.html)"
   ]
  },
  {
   "cell_type": "markdown",
   "metadata": {
    "slideshow": {
     "slide_type": "fragment"
    }
   },
   "source": [
    "Louis Dionne, [Runtime Polymorphism: Back to the Basics](https://www.youtube.com/watch?v=gVGtNFg4ay0&t=3063s)"
   ]
  }
 ],
 "metadata": {
  "celltoolbar": "Slideshow",
  "kernelspec": {
   "display_name": "C++17",
   "language": "C++17",
   "name": "xeus-cling-cpp17"
  },
  "language_info": {
   "codemirror_mode": "text/x-c++src",
   "file_extension": ".cpp",
   "mimetype": "text/x-c++src",
   "name": "c++",
   "version": "-std=c++17"
  }
 },
 "nbformat": 4,
 "nbformat_minor": 2
}
