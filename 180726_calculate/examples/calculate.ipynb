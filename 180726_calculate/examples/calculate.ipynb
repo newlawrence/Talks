{
 "cells": [
  {
   "cell_type": "code",
   "execution_count": null,
   "metadata": {},
   "outputs": [],
   "source": [
    "#pragma cling add_include_path(\"../calculate2.1.1rc6\")\n",
    "#include \"calculate.hpp\""
   ]
  },
  {
   "cell_type": "code",
   "execution_count": null,
   "metadata": {},
   "outputs": [],
   "source": [
    "#include \"xtensor/xarray.hpp\"\n",
    "#include \"xtensor/xview.hpp\"\n",
    "#include \"xtensor/xvectorize.hpp\"\n",
    "#include \"xtensor/xio.hpp\""
   ]
  },
  {
   "cell_type": "code",
   "execution_count": null,
   "metadata": {},
   "outputs": [],
   "source": [
    "#include \"xplot/xfigure.hpp\"\n",
    "#include \"xplot/xmarks.hpp\"\n",
    "#include \"xplot/xaxes.hpp\""
   ]
  },
  {
   "cell_type": "code",
   "execution_count": null,
   "metadata": {},
   "outputs": [],
   "source": [
    "class Plotter {\n",
    "    calculate::Parser _parser;\n",
    "    xpl::figure _fig;\n",
    "\n",
    "public:\n",
    "    Plotter() : _parser{}, _fig{} {}\n",
    "\n",
    "    auto& constants() { return _parser.constants; }\n",
    "\n",
    "    auto& fig() { return _fig; }\n",
    "\n",
    "    void plot(std::string color, std::string expr, double start, double end) {\n",
    "        auto f = _parser.parse(expr);\n",
    "        auto vf = xt::vectorize(std::function<double(double)>{f});\n",
    "\n",
    "        auto x = xt::linspace<double>(start, end, 250);\n",
    "        auto y = vf(x);\n",
    "\n",
    "        xpl::lines line(xpl::linear_scale{}, xpl::linear_scale{});\n",
    "        line.x = std::vector<double>{x.begin(), x.end()};\n",
    "        line.y = std::vector<double>{y.begin(), y.end()};\n",
    "        line.colors = std::vector<std::string>{color};\n",
    "        _fig.add_mark(std::move(line));\n",
    "    }\n",
    "};"
   ]
  },
  {
   "cell_type": "code",
   "execution_count": null,
   "metadata": {},
   "outputs": [],
   "source": [
    "Plotter plotter;\n",
    "plotter.fig()"
   ]
  },
  {
   "cell_type": "code",
   "execution_count": null,
   "metadata": {},
   "outputs": [],
   "source": [
    "plotter.plot(\"red\", \"sin(x)\", 0., 2. * plotter.constants().at(\"pi\"))"
   ]
  },
  {
   "cell_type": "code",
   "execution_count": null,
   "metadata": {},
   "outputs": [],
   "source": [
    "plotter.plot(\"blue\", \"cos(x)\", 0., 2. * plotter.constants().at(\"pi\"))"
   ]
  },
  {
   "cell_type": "code",
   "execution_count": null,
   "metadata": {},
   "outputs": [],
   "source": []
  }
 ],
 "metadata": {
  "kernelspec": {
   "display_name": "C++14",
   "language": "C++14",
   "name": "xeus-cling-cpp14"
  },
  "language_info": {
   "codemirror_mode": "text/x-c++src",
   "file_extension": ".cpp",
   "mimetype": "text/x-c++src",
   "name": "c++",
   "version": "-std=c++14"
  }
 },
 "nbformat": 4,
 "nbformat_minor": 2
}
