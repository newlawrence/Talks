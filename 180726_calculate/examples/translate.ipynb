{
 "cells": [
  {
   "cell_type": "markdown",
   "metadata": {},
   "source": [
    "# Traductor"
   ]
  },
  {
   "cell_type": "markdown",
   "metadata": {},
   "source": [
    "Pequeña prueba de concepto de implementación de un traductor de expresiones a lenguaje natural aprovechando el acceso a la estructura de árbol de las expresiones de **Calculate**."
   ]
  },
  {
   "cell_type": "code",
   "execution_count": null,
   "metadata": {},
   "outputs": [],
   "source": [
    "#pragma cling add_include_path(\"../calculate2.1.1rc6\")\n",
    "#include \"calculate.hpp\""
   ]
  },
  {
   "cell_type": "code",
   "execution_count": null,
   "metadata": {},
   "outputs": [],
   "source": [
    "#include <array>"
   ]
  },
  {
   "cell_type": "code",
   "execution_count": null,
   "metadata": {},
   "outputs": [],
   "source": [
    "class Translator {\n",
    "    using FuncMap = std::unordered_map<std::string, std::string>;\n",
    "    using OperMap = std::unordered_map<std::string, std::array<std::string, 3>>;\n",
    "\n",
    "    calculate::Parser _parser;\n",
    "    FuncMap _function_aliases;\n",
    "    OperMap _operator_aliases;\n",
    "    std::regex _adapter;\n",
    "\n",
    "    std::string _translate(\n",
    "        const calculate::Parser::Expression& expression,\n",
    "        bool verbose=false\n",
    "    ) {\n",
    "        decltype(_function_aliases.begin()) f;\n",
    "        decltype(_operator_aliases.begin()) o;\n",
    "        auto translation = std::string{};\n",
    "        auto token = expression.token();\n",
    "        auto n = expression.branches();\n",
    "\n",
    "        switch (expression.type()) {\n",
    "        case (calculate::Parser::SymbolType::FUNCTION):\n",
    "            f = _function_aliases.find(token);\n",
    "            if (f == _function_aliases.end())\n",
    "                throw calculate::UndefinedSymbol(token);\n",
    "\n",
    "            translation += f->second;\n",
    "            for (std::size_t i = 0; i < n; i++) {\n",
    "                translation += _translate(expression[i]);\n",
    "                if (n > 1 && i < n - 1)\n",
    "                    translation += (i == n - 2) ? \"y \" : \", \";\n",
    "            }\n",
    "            break;\n",
    "\n",
    "        case (calculate::Parser::SymbolType::OPERATOR):\n",
    "            o = _operator_aliases.find(token);\n",
    "            if (o == _operator_aliases.end())\n",
    "                throw calculate::UndefinedSymbol(token);\n",
    "\n",
    "            if (verbose)\n",
    "                translation += o->second[1];\n",
    "            translation += _translate(expression[0]);\n",
    "            translation += o->second[verbose ? 2 : 0];\n",
    "            translation += _translate(expression[1], expression[1].branches() > 1);\n",
    "            break;\n",
    "\n",
    "        default:\n",
    "            translation += token;\n",
    "            translation += \" \";\n",
    "        }\n",
    "        return translation;\n",
    "    }\n",
    "\n",
    "public:\n",
    "    Translator() :\n",
    "            _parser{},\n",
    "            _function_aliases{},\n",
    "            _operator_aliases{},\n",
    "            _adapter{\"(a el)\"}\n",
    "    {\n",
    "        _function_aliases.insert({\n",
    "            {\"id\", \"\"},\n",
    "            {\"neg\", \"menos \"},\n",
    "            {\"inv\", \"la inversa de \"},\n",
    "            {\"exp\", \"la exponencial de \"},\n",
    "            {\"log\", \"el logaritmo de \"},\n",
    "            {\"sin\", \"el seno de \"},\n",
    "            {\"cos\", \"el coseno de \"},\n",
    "            {\"tan\", \"la tangente de \"}\n",
    "        });\n",
    "\n",
    "        _operator_aliases.insert({\n",
    "            {\"+\", {\"más \", \"el resultado de sumar \", \"y \"}},\n",
    "            {\"-\", {\"menos \", \"el resultado de restar \", \"y \"}},\n",
    "            {\"*\", {\"por \", \"el resultado de multiplicar \", \"por \"}},\n",
    "            {\"/\", {\"entre \", \"el resultado de dividir \", \"entre \"}},\n",
    "            {\"^\", {\"elevado a \", \"el resultado de elevar \", \"a \"}}\n",
    "        });\n",
    "    }\n",
    "\n",
    "    std::string translate(const std::string& expression) {\n",
    "        auto translation = _translate(_parser.parse(expression));\n",
    "        translation.pop_back();\n",
    "        return std::regex_replace(translation, _adapter, \"al\");\n",
    "    }\n",
    "};\n",
    "\n",
    "Translator translator;"
   ]
  },
  {
   "cell_type": "code",
   "execution_count": null,
   "metadata": {},
   "outputs": [],
   "source": [
    "translator.translate(\"(1+2)*3\")"
   ]
  },
  {
   "cell_type": "code",
   "execution_count": null,
   "metadata": {},
   "outputs": [],
   "source": [
    "translator.translate(\"1+2*3\")"
   ]
  },
  {
   "cell_type": "code",
   "execution_count": null,
   "metadata": {},
   "outputs": [],
   "source": [
    "translator.translate(\"1+2^(3+4)\")"
   ]
  },
  {
   "cell_type": "code",
   "execution_count": null,
   "metadata": {},
   "outputs": [],
   "source": []
  }
 ],
 "metadata": {
  "kernelspec": {
   "display_name": "C++14",
   "language": "C++14",
   "name": "xeus-cling-cpp14"
  },
  "language_info": {
   "codemirror_mode": "text/x-c++src",
   "file_extension": ".cpp",
   "mimetype": "text/x-c++src",
   "name": "c++",
   "version": "-std=c++14"
  }
 },
 "nbformat": 4,
 "nbformat_minor": 2
}
